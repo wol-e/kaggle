{
 "cells": [
  {
   "cell_type": "code",
   "execution_count": 2,
   "id": "determined-wednesday",
   "metadata": {},
   "outputs": [
    {
     "data": {
      "text/plain": [
       "[1, 2, 3, 4, 20, 20, 20]"
      ]
     },
     "execution_count": 2,
     "metadata": {},
     "output_type": "execute_result"
    }
   ],
   "source": [
    "import pandas as pd\n",
    "import matplotlib.pyplot as plt\n",
    "import gc\n",
    "\n",
    "from sklearn.tree import DecisionTreeRegressor\n",
    "from sklearn.model_selection import train_test_split\n",
    "from sklearn.metrics import mean_squared_error\n",
    "from tqdm.notebook import tqdm\n",
    "\n",
    "import math\n",
    "import numpy as np\n",
    "import pickle\n",
    "\n",
    "pd.options.display.max_columns = 500\n",
    "\n",
    "def clip_y(y):\n",
    "    return [min(y, 20) for y in y]\n",
    "\n",
    "clip_y(np.array([1, 2, 3, 4, 56, 77, 20]))"
   ]
  },
  {
   "cell_type": "code",
   "execution_count": null,
   "id": "committed-andrews",
   "metadata": {},
   "outputs": [],
   "source": [
    "df = pd.read_pickle(\"data/processed/sales_monthly_wide_reduced.pickle\",)"
   ]
  },
  {
   "cell_type": "code",
   "execution_count": null,
   "id": "fresh-permission",
   "metadata": {
    "scrolled": false
   },
   "outputs": [],
   "source": [
    "print(list(df.columns))"
   ]
  },
  {
   "cell_type": "code",
   "execution_count": null,
   "id": "selective-brighton",
   "metadata": {},
   "outputs": [],
   "source": [
    "df.head(2)"
   ]
  },
  {
   "cell_type": "markdown",
   "id": "brilliant-circumstances",
   "metadata": {},
   "source": [
    "# Decision Tree\n",
    "\n",
    "## Initial observation with a non time series setup (not usable for november prediciton)\n",
    "\n",
    "First we start with a standard model, which is not adjusted to thew time series nature of the problem,\n",
    "i.e. we do a vertical split. This results easily in an rmse of < 0.8, which would be an outstanding result in the real competition."
   ]
  },
  {
   "cell_type": "code",
   "execution_count": null,
   "id": "signed-auction",
   "metadata": {},
   "outputs": [],
   "source": [
    "df = df.set_index([\"shop_id\", \"item_id\"])\n",
    "y = df[\"sum_item_cnt_month_33\"]\n",
    "\n",
    "for col in df.columns:\n",
    "    if \"33\" in col:\n",
    "        print(f\"Removing column {col}\")\n",
    "        del df[col]\n",
    "    \n",
    "X_train, X_test, y_train, y_test = train_test_split(df, y, test_size=0.2, random_state=42)\n",
    "\n",
    "X_train"
   ]
  },
  {
   "cell_type": "code",
   "execution_count": null,
   "id": "dense-pepper",
   "metadata": {},
   "outputs": [],
   "source": [
    "model_tree = DecisionTreeRegressor(\n",
    "    max_depth=10,\n",
    "    min_samples_leaf=100,\n",
    ")\n",
    "\n",
    "model_tree.fit(X_train, y_train)"
   ]
  },
  {
   "cell_type": "code",
   "execution_count": null,
   "id": "psychological-columbia",
   "metadata": {},
   "outputs": [],
   "source": [
    "y_pred_test = model_tree.predict(X_test)\n",
    "y_pred_train = model_tree.predict(X_train)\n",
    "\n",
    "print(f\"\"\"\n",
    "Error on test: {mean_squared_error(y_true=clip_y(y_test), y_pred=clip_y(y_pred_test), squared=False)}\n",
    "Error on train: {mean_squared_error(y_true=clip_y(y_train), y_pred=clip_y(y_pred_train), squared=False)}\n",
    "\"\"\")"
   ]
  },
  {
   "cell_type": "code",
   "execution_count": null,
   "id": "smaller-information",
   "metadata": {},
   "outputs": [],
   "source": [
    "del df, y, X_train, X_test, y_train, y_test, y_pred_test, y_pred_train, model_tree\n",
    "\n",
    "gc.collect()"
   ]
  },
  {
   "cell_type": "markdown",
   "id": "internal-windsor",
   "metadata": {},
   "source": [
    "## predicting via time series structure"
   ]
  },
  {
   "cell_type": "code",
   "execution_count": null,
   "id": "monetary-airfare",
   "metadata": {},
   "outputs": [],
   "source": [
    "df = pd.read_pickle(f\"data/processed/sales_monthly_subseries_18.pickle\")\n",
    "df"
   ]
  },
  {
   "cell_type": "code",
   "execution_count": null,
   "id": "original-crawford",
   "metadata": {},
   "outputs": [],
   "source": [
    "df.info()"
   ]
  },
  {
   "cell_type": "code",
   "execution_count": null,
   "id": "transsexual-deficit",
   "metadata": {},
   "outputs": [],
   "source": [
    "# shuffle data\n",
    "df = df.sample(frac=1).reset_index(drop=True)"
   ]
  },
  {
   "cell_type": "code",
   "execution_count": null,
   "id": "literary-velvet",
   "metadata": {},
   "outputs": [],
   "source": [
    "import math\n",
    "\n",
    "y = df[\"sum_item_cnt_month_18\"]\n",
    "\n",
    "for col in df:\n",
    "    if \"18\" in col:\n",
    "        print(f\"deleting column {col}\")\n",
    "        del df[col]\n",
    "        \n",
    "split_index = math.floor(df.shape[0] * 0.7)\n",
    "\n",
    "split_index"
   ]
  },
  {
   "cell_type": "code",
   "execution_count": null,
   "id": "distributed-creek",
   "metadata": {},
   "outputs": [],
   "source": [
    "%time\n",
    "\n",
    "model_tree_series = DecisionTreeRegressor(\n",
    "    max_depth=5,\n",
    "    criterion=\"mse\",  # one of \"mse\", \"friedman_mse\", \"mae\", \"poisson\"\n",
    "    min_samples_leaf=250\n",
    ")\n",
    "\n",
    "model_tree_series.fit(\n",
    "    df.iloc[:split_index,:],\n",
    "    y[:split_index]\n",
    ")"
   ]
  },
  {
   "cell_type": "code",
   "execution_count": null,
   "id": "funky-syndicate",
   "metadata": {},
   "outputs": [],
   "source": [
    "print(f\"\"\"\n",
    "Error on train: {\n",
    "    mean_squared_error(\n",
    "        y_true=clip_y(y[:split_index]),\n",
    "        y_pred=clip_y(model_tree_series.predict(df.iloc[:split_index,:])),\n",
    "        squared=False\n",
    "    )\n",
    "}\n",
    "Error on test: {\n",
    "    mean_squared_error(\n",
    "        y_true=clip_y(y[split_index:]),\n",
    "        y_pred=clip_y(model_tree_series.predict(df.iloc[split_index:,:])),\n",
    "        squared=False\n",
    "    )\n",
    "}\n",
    "\"\"\")"
   ]
  },
  {
   "cell_type": "code",
   "execution_count": null,
   "id": "civic-limit",
   "metadata": {},
   "outputs": [],
   "source": [
    "with open('data/models/model_tree_series.pickle', 'wb') as file:\n",
    "    pickle.dump(model_tree_series, file)   "
   ]
  },
  {
   "cell_type": "code",
   "execution_count": null,
   "id": "black-dating",
   "metadata": {},
   "outputs": [],
   "source": [
    "with open('data/models/model_tree_series.pickle', 'rb') as model:\n",
    "    model_tree_series = pickle.load(model)"
   ]
  },
  {
   "cell_type": "code",
   "execution_count": null,
   "id": "handed-reception",
   "metadata": {},
   "outputs": [],
   "source": [
    "\"\"\"Create dataset for predicting on\"\"\"\n",
    "k = 18\n",
    "\n",
    "df = pd.read_pickle(f\"data/processed/sales_monthly_wide_reduced.pickle\")\n",
    "\n",
    "cols = [\"shop_id\", \"item_id\", \"item_category_id\"]\n",
    "col_index_list = [str(x) for x in range(34 - k, 34)]\n",
    "cols += [col for col in df.columns if col.split(\"_\")[-1] in col_index_list]\n",
    "df = df[cols]\n",
    "\n",
    "df"
   ]
  },
  {
   "cell_type": "code",
   "execution_count": null,
   "id": "warming-tolerance",
   "metadata": {},
   "outputs": [],
   "source": [
    "preds = clip_y(model_tree_series.predict(df))\n",
    "\n",
    "df[\"pred\"] = preds\n",
    "\n",
    "plt.hist(preds, bins=100)\n",
    "\n",
    "df"
   ]
  },
  {
   "cell_type": "code",
   "execution_count": null,
   "id": "neutral-tanzania",
   "metadata": {},
   "outputs": [],
   "source": [
    "submission = df[[\"shop_id\", \"item_id\", \"pred\"]]\n",
    "\n",
    "submission"
   ]
  },
  {
   "cell_type": "code",
   "execution_count": null,
   "id": "unauthorized-trick",
   "metadata": {},
   "outputs": [],
   "source": [
    "test = pd.read_csv(\"data/source/test.csv\")\n",
    "\n",
    "test"
   ]
  },
  {
   "cell_type": "code",
   "execution_count": null,
   "id": "composite-peter",
   "metadata": {},
   "outputs": [],
   "source": [
    "merged = submission.join(test.set_index([\"shop_id\", \"item_id\"]), how=\"right\", on=[\"shop_id\", \"item_id\"])\n",
    "\n",
    "merged"
   ]
  },
  {
   "cell_type": "code",
   "execution_count": null,
   "id": "functional-month",
   "metadata": {},
   "outputs": [],
   "source": [
    "submission = merged[[\"ID\", \"pred\"]].reset_index(drop=True)\n",
    "\n",
    "submission.columns = [\"ID\", \"item_cnt_month\"]\n",
    "\n",
    "submission = submission.fillna(0)\n",
    "\n",
    "submission"
   ]
  },
  {
   "cell_type": "code",
   "execution_count": null,
   "id": "front-chaos",
   "metadata": {},
   "outputs": [],
   "source": [
    "submission.sort_values(by=\"item_cnt_month\")"
   ]
  },
  {
   "cell_type": "code",
   "execution_count": null,
   "id": "forward-stations",
   "metadata": {},
   "outputs": [],
   "source": [
    "submission.to_csv(\"data/submission_decision_tree2.csv\", index=False)"
   ]
  },
  {
   "cell_type": "markdown",
   "id": "molecular-novelty",
   "metadata": {},
   "source": [
    "# Random forest"
   ]
  },
  {
   "cell_type": "code",
   "execution_count": 2,
   "id": "right-mainstream",
   "metadata": {},
   "outputs": [
    {
     "name": "stdout",
     "output_type": "stream",
     "text": [
      "Loading dataset for training\n",
      "shuffling...\n",
      "deleting column sum_item_cnt_month_18\n",
      "deleting column max_item_cnt_month_18\n",
      "deleting column max_date_18\n",
      "deleting column count_date_18\n",
      "Fitting Random Forest...\n",
      "Scoring...\n",
      "\n",
      "Error on train: 0.7798035638013321\n",
      "Error on test: 0.779794157518133\n",
      "\n",
      "CPU times: user 8min 37s, sys: 8.01 s, total: 8min 45s\n",
      "Wall time: 8min 56s\n"
     ]
    }
   ],
   "source": [
    "%%time\n",
    "\n",
    "\"\"\"Fitting\"\"\"\n",
    "\n",
    "from sklearn.ensemble import RandomForestRegressor\n",
    "\n",
    "print(\"Loading dataset for training\")\n",
    "df = pd.read_pickle(f\"data/processed/sales_monthly_subseries_18.pickle\")\n",
    "print(\"shuffling...\")\n",
    "df = df.sample(frac=1).reset_index(drop=True)\n",
    "\n",
    "y = df[\"sum_item_cnt_month_18\"]\n",
    "\n",
    "for col in df:\n",
    "    if \"18\" in col:\n",
    "        print(f\"deleting column {col}\")\n",
    "        del df[col]\n",
    "        \n",
    "split_index = math.floor(df.shape[0] * 0.7)\n",
    "\n",
    "print(\"Fitting Random Forest...\")\n",
    "model_rf_series = RandomForestRegressor(\n",
    "    n_estimators=10,\n",
    "    max_depth=8,\n",
    "    criterion=\"mse\",  # one of \"mse\", \"friedman_mse\", \"mae\", \"poisson\"\n",
    "    min_samples_leaf=250\n",
    ")\n",
    "\n",
    "model_rf_series.fit(\n",
    "    df.iloc[:split_index,:],\n",
    "    y[:split_index]\n",
    ")\n",
    "\n",
    "with open('data/models/model_rf_series.pickle', 'wb') as file:\n",
    "    pickle.dump(model_rf_series, file)\n",
    "\n",
    "print(\"Scoring...\")\n",
    "print(f\"\"\"\n",
    "Error on train: {\n",
    "    mean_squared_error(\n",
    "        y_true=clip_y(y[:split_index]),\n",
    "        y_pred=clip_y(model_rf_series.predict(df.iloc[:split_index,:])),\n",
    "        squared=False\n",
    "    )\n",
    "}\n",
    "Error on test: {\n",
    "    mean_squared_error(\n",
    "        y_true=clip_y(y[split_index:]),\n",
    "        y_pred=clip_y(model_rf_series.predict(df.iloc[split_index:,:])),\n",
    "        squared=False\n",
    "    )\n",
    "}\n",
    "\"\"\")"
   ]
  },
  {
   "cell_type": "code",
   "execution_count": 3,
   "id": "cleared-sunday",
   "metadata": {},
   "outputs": [
    {
     "data": {
      "text/plain": [
       "[('sum_item_cnt_month_17', 0.5563742417885769),\n",
       " ('count_date_17', 0.3718165800473524),\n",
       " ('max_item_cnt_month_13', 0.03486362590699952),\n",
       " ('max_date_17', 0.008201328956607183),\n",
       " ('sum_item_cnt_month_15', 0.005082491931546494),\n",
       " ('sum_item_cnt_month_16', 0.00456773940552291),\n",
       " ('item_category_id', 0.003101735292266243),\n",
       " ('sum_item_cnt_month_14', 0.0023771031654109286),\n",
       " ('max_item_cnt_month_17', 0.0018381339640708364),\n",
       " ('max_item_cnt_month_14', 0.0018022324648708711)]"
      ]
     },
     "metadata": {},
     "output_type": "display_data"
    },
    {
     "data": {
      "image/png": "[encoded data removed]",
      "text/plain": [
       "<Figure size 1080x288 with 1 Axes>"
      ]
     },
     "metadata": {
      "needs_background": "light"
     },
     "output_type": "display_data"
    }
   ],
   "source": [
    "\"\"\"feature importance\"\"\"\n",
    "\n",
    "feature_imp = list(zip(df.columns, model_rf_series.feature_importances_))\n",
    "feature_imp.sort(key = lambda x: x[1], reverse=True)\n",
    "\n",
    "items=10\n",
    "\n",
    "display(feature_imp[:items])\n",
    "\n",
    "fig, ax = plt.subplots(1, 1, figsize=(15, 4))\n",
    "ax.bar(\n",
    "    [f[0] for f in feature_imp][:items],\n",
    "    [f[1] for f in feature_imp][:items]\n",
    ")\n",
    "ax.tick_params(axis='x', labelrotation=15)\n",
    "ax.set_yscale(\"log\")\n",
    "\n",
    "plt.tight_layout()\n",
    "plt.show()"
   ]
  },
  {
   "cell_type": "code",
   "execution_count": null,
   "id": "virgin-russell",
   "metadata": {},
   "outputs": [],
   "source": [
    "print(\"\"\"\n",
    "current best:\n",
    "model_rf_series = RandomForestRegressor(\n",
    "    n_estimators=20,\n",
    "    max_depth=10,\n",
    "    criterion=\"mse\",  # one of \"mse\", \"friedman_mse\", \"mae\", \"poisson\"\n",
    "    min_samples_leaf=250\n",
    ")\n",
    "Error on train: 0.7723917541685946\n",
    "Error on test: 0.7779497955509741\n",
    "\n",
    "CPU times: user 26min 52s, sys: 7.84 s, total: 27min\n",
    "Wall time: 27min 48s\n",
    "\"\"\")"
   ]
  },
  {
   "cell_type": "code",
   "execution_count": 7,
   "id": "restricted-departure",
   "metadata": {},
   "outputs": [
    {
     "name": "stdout",
     "output_type": "stream",
     "text": [
      "CPU times: user 800 ms, sys: 95.2 ms, total: 895 ms\n",
      "Wall time: 943 ms\n"
     ]
    },
    {
     "data": {
      "text/html": [
       "<div>\n",
       "<style scoped>\n",
       "    .dataframe tbody tr th:only-of-type {\n",
       "        vertical-align: middle;\n",
       "    }\n",
       "\n",
       "    .dataframe tbody tr th {\n",
       "        vertical-align: top;\n",
       "    }\n",
       "\n",
       "    .dataframe thead th {\n",
       "        text-align: right;\n",
       "    }\n",
       "</style>\n",
       "<table border=\"1\" class=\"dataframe\">\n",
       "  <thead>\n",
       "    <tr style=\"text-align: right;\">\n",
       "      <th></th>\n",
       "      <th>ID</th>\n",
       "      <th>item_cnt_month</th>\n",
       "    </tr>\n",
       "  </thead>\n",
       "  <tbody>\n",
       "    <tr>\n",
       "      <th>107099</th>\n",
       "      <td>107099</td>\n",
       "      <td>0.058082</td>\n",
       "    </tr>\n",
       "    <tr>\n",
       "      <th>83504</th>\n",
       "      <td>83504</td>\n",
       "      <td>0.058082</td>\n",
       "    </tr>\n",
       "    <tr>\n",
       "      <th>83505</th>\n",
       "      <td>83505</td>\n",
       "      <td>0.058082</td>\n",
       "    </tr>\n",
       "    <tr>\n",
       "      <th>83517</th>\n",
       "      <td>83517</td>\n",
       "      <td>0.058082</td>\n",
       "    </tr>\n",
       "    <tr>\n",
       "      <th>83522</th>\n",
       "      <td>83522</td>\n",
       "      <td>0.058082</td>\n",
       "    </tr>\n",
       "    <tr>\n",
       "      <th>...</th>\n",
       "      <td>...</td>\n",
       "      <td>...</td>\n",
       "    </tr>\n",
       "    <tr>\n",
       "      <th>5374</th>\n",
       "      <td>5374</td>\n",
       "      <td>20.000000</td>\n",
       "    </tr>\n",
       "    <tr>\n",
       "      <th>184060</th>\n",
       "      <td>184060</td>\n",
       "      <td>20.000000</td>\n",
       "    </tr>\n",
       "    <tr>\n",
       "      <th>25960</th>\n",
       "      <td>25960</td>\n",
       "      <td>20.000000</td>\n",
       "    </tr>\n",
       "    <tr>\n",
       "      <th>35833</th>\n",
       "      <td>35833</td>\n",
       "      <td>20.000000</td>\n",
       "    </tr>\n",
       "    <tr>\n",
       "      <th>87160</th>\n",
       "      <td>87160</td>\n",
       "      <td>20.000000</td>\n",
       "    </tr>\n",
       "  </tbody>\n",
       "</table>\n",
       "<p>214200 rows × 2 columns</p>\n",
       "</div>"
      ],
      "text/plain": [
       "            ID  item_cnt_month\n",
       "107099  107099        0.058082\n",
       "83504    83504        0.058082\n",
       "83505    83505        0.058082\n",
       "83517    83517        0.058082\n",
       "83522    83522        0.058082\n",
       "...        ...             ...\n",
       "5374      5374       20.000000\n",
       "184060  184060       20.000000\n",
       "25960    25960       20.000000\n",
       "35833    35833       20.000000\n",
       "87160    87160       20.000000\n",
       "\n",
       "[214200 rows x 2 columns]"
      ]
     },
     "execution_count": 7,
     "metadata": {},
     "output_type": "execute_result"
    }
   ],
   "source": [
    "%%time\n",
    "\n",
    "\"\"\"predictions\"\"\"\n",
    "    \n",
    "with open('data/models/model_rf_series.pickle', 'rb') as model:\n",
    "    model_rf_series = pickle.load(model)\n",
    "    \n",
    "\"\"\"Create dataset for predicting on\"\"\"\n",
    "k = 18\n",
    "\n",
    "df = pd.read_pickle(f\"data/processed/sales_monthly_wide_reduced.pickle\")\n",
    "\n",
    "cols = [\"shop_id\", \"item_id\", \"item_category_id\"]\n",
    "col_index_list = [str(x) for x in range(34 - k, 34)]\n",
    "cols += [col for col in df.columns if col.split(\"_\")[-1] in col_index_list]\n",
    "df = df[cols]\n",
    "\n",
    "preds = clip_y(model_rf_series.predict(df))\n",
    "df[\"pred\"] = preds\n",
    "\n",
    "submission = df[[\"shop_id\", \"item_id\", \"pred\"]]\n",
    "test = pd.read_csv(\"data/source/test.csv\")\n",
    "\n",
    "merged = submission.join(test.set_index([\"shop_id\", \"item_id\"]), how=\"right\", on=[\"shop_id\", \"item_id\"])\n",
    "\n",
    "submission = merged[[\"ID\", \"pred\"]].reset_index(drop=True)\n",
    "submission.columns = [\"ID\", \"item_cnt_month\"]\n",
    "submission = submission.fillna(0.13) # mean of october sales\n",
    "\n",
    "submission.sort_values(by=\"item_cnt_month\")"
   ]
  },
  {
   "cell_type": "code",
   "execution_count": 8,
   "id": "flying-orchestra",
   "metadata": {},
   "outputs": [],
   "source": [
    "submission.to_csv(\"data/submission_random_forest2_oct_mean_imputed.csv\", index=False)"
   ]
  }
 ],
 "metadata": {
  "kernelspec": {
   "display_name": "Python 3",
   "language": "python",
   "name": "python3"
  },
  "language_info": {
   "codemirror_mode": {
    "name": "ipython",
    "version": 3
   },
   "file_extension": ".py",
   "mimetype": "text/x-python",
   "name": "python",
   "nbconvert_exporter": "python",
   "pygments_lexer": "ipython3",
   "version": "3.8.5"
  }
 },
 "nbformat": 4,
 "nbformat_minor": 5
}
