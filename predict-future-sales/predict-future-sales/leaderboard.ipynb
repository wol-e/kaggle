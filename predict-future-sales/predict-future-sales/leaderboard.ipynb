{
 "cells": [
  {
   "cell_type": "code",
   "execution_count": 3,
   "id": "simplified-montreal",
   "metadata": {},
   "outputs": [],
   "source": [
    "import pandas as pd\n",
    "import matplotlib.pyplot as plt"
   ]
  },
  {
   "cell_type": "code",
   "execution_count": 5,
   "id": "pharmaceutical-europe",
   "metadata": {},
   "outputs": [
    {
     "data": {
      "text/html": [
       "<div>\n",
       "<style scoped>\n",
       "    .dataframe tbody tr th:only-of-type {\n",
       "        vertical-align: middle;\n",
       "    }\n",
       "\n",
       "    .dataframe tbody tr th {\n",
       "        vertical-align: top;\n",
       "    }\n",
       "\n",
       "    .dataframe thead th {\n",
       "        text-align: right;\n",
       "    }\n",
       "</style>\n",
       "<table border=\"1\" class=\"dataframe\">\n",
       "  <thead>\n",
       "    <tr style=\"text-align: right;\">\n",
       "      <th></th>\n",
       "      <th>TeamId</th>\n",
       "      <th>TeamName</th>\n",
       "      <th>SubmissionDate</th>\n",
       "      <th>Score</th>\n",
       "    </tr>\n",
       "  </thead>\n",
       "  <tbody>\n",
       "    <tr>\n",
       "      <th>0</th>\n",
       "      <td>4117209</td>\n",
       "      <td>KDJ2020</td>\n",
       "      <td>2021-03-06 09:03:47</td>\n",
       "      <td>7.536800e-01</td>\n",
       "    </tr>\n",
       "    <tr>\n",
       "      <th>1</th>\n",
       "      <td>3580817</td>\n",
       "      <td>Shorokhov Sergey</td>\n",
       "      <td>2019-12-25 14:44:28</td>\n",
       "      <td>7.695500e-01</td>\n",
       "    </tr>\n",
       "    <tr>\n",
       "      <th>2</th>\n",
       "      <td>5391768</td>\n",
       "      <td>VNPT@DS</td>\n",
       "      <td>2020-11-04 02:19:27</td>\n",
       "      <td>7.839900e-01</td>\n",
       "    </tr>\n",
       "    <tr>\n",
       "      <th>3</th>\n",
       "      <td>2300090</td>\n",
       "      <td>Konstantin Yakovlev</td>\n",
       "      <td>2018-12-19 12:00:55</td>\n",
       "      <td>7.921500e-01</td>\n",
       "    </tr>\n",
       "    <tr>\n",
       "      <th>4</th>\n",
       "      <td>1527922</td>\n",
       "      <td>b_b</td>\n",
       "      <td>2019-03-16 08:38:59</td>\n",
       "      <td>7.935800e-01</td>\n",
       "    </tr>\n",
       "    <tr>\n",
       "      <th>...</th>\n",
       "      <td>...</td>\n",
       "      <td>...</td>\n",
       "      <td>...</td>\n",
       "      <td>...</td>\n",
       "    </tr>\n",
       "    <tr>\n",
       "      <th>10819</th>\n",
       "      <td>5491601</td>\n",
       "      <td>Kumari Ruchi</td>\n",
       "      <td>2020-09-08 17:21:57</td>\n",
       "      <td>1.387682e+07</td>\n",
       "    </tr>\n",
       "    <tr>\n",
       "      <th>10820</th>\n",
       "      <td>2731682</td>\n",
       "      <td>Sujith Achuthan</td>\n",
       "      <td>2019-02-12 16:15:52</td>\n",
       "      <td>3.708267e+11</td>\n",
       "    </tr>\n",
       "    <tr>\n",
       "      <th>10821</th>\n",
       "      <td>4943208</td>\n",
       "      <td>Devansh Mishra</td>\n",
       "      <td>2020-05-19 17:30:13</td>\n",
       "      <td>4.480669e+11</td>\n",
       "    </tr>\n",
       "    <tr>\n",
       "      <th>10822</th>\n",
       "      <td>2023154</td>\n",
       "      <td>Jacky Nguyen</td>\n",
       "      <td>2018-08-31 09:44:36</td>\n",
       "      <td>1.675717e+16</td>\n",
       "    </tr>\n",
       "    <tr>\n",
       "      <th>10823</th>\n",
       "      <td>6273550</td>\n",
       "      <td>Jeongeun Kwak</td>\n",
       "      <td>2021-02-10 05:19:00</td>\n",
       "      <td>1.494654e+28</td>\n",
       "    </tr>\n",
       "  </tbody>\n",
       "</table>\n",
       "<p>10824 rows × 4 columns</p>\n",
       "</div>"
      ],
      "text/plain": [
       "        TeamId             TeamName       SubmissionDate         Score\n",
       "0      4117209              KDJ2020  2021-03-06 09:03:47  7.536800e-01\n",
       "1      3580817     Shorokhov Sergey  2019-12-25 14:44:28  7.695500e-01\n",
       "2      5391768              VNPT@DS  2020-11-04 02:19:27  7.839900e-01\n",
       "3      2300090  Konstantin Yakovlev  2018-12-19 12:00:55  7.921500e-01\n",
       "4      1527922                  b_b  2019-03-16 08:38:59  7.935800e-01\n",
       "...        ...                  ...                  ...           ...\n",
       "10819  5491601         Kumari Ruchi  2020-09-08 17:21:57  1.387682e+07\n",
       "10820  2731682      Sujith Achuthan  2019-02-12 16:15:52  3.708267e+11\n",
       "10821  4943208       Devansh Mishra  2020-05-19 17:30:13  4.480669e+11\n",
       "10822  2023154         Jacky Nguyen  2018-08-31 09:44:36  1.675717e+16\n",
       "10823  6273550        Jeongeun Kwak  2021-02-10 05:19:00  1.494654e+28\n",
       "\n",
       "[10824 rows x 4 columns]"
      ]
     },
     "execution_count": 5,
     "metadata": {},
     "output_type": "execute_result"
    }
   ],
   "source": [
    "board = pd.read_csv(\"data/leaderboard_20210403.csv\")\n",
    "board"
   ]
  },
  {
   "cell_type": "code",
   "execution_count": 30,
   "id": "quantitative-protocol",
   "metadata": {},
   "outputs": [
    {
     "name": "stdout",
     "output_type": "stream",
     "text": [
      "1.0291800000000002\n"
     ]
    },
    {
     "data": {
      "image/png": "[encoded data removed]",
      "text/plain": [
       "<Figure size 1080x288 with 1 Axes>"
      ]
     },
     "metadata": {
      "needs_background": "light"
     },
     "output_type": "display_data"
    }
   ],
   "source": [
    "import numpy as np\n",
    "\n",
    "fig, ax = plt.subplots(1, 1, figsize=(15, 4))\n",
    "ax.hist(board[\"Score\"][:8000], bins=100)\n",
    "m = np.median(board[\"Score\"])\n",
    "print(m)\n",
    "ax.axvline(m, color=\"orange\", linestyle=\"--\", label=\"median\")\n",
    "ax.axvline(1.03278, color=\"green\", linestyle=\"--\", label=\"me\")\n",
    "#ax.set_yscale(\"log\")\n",
    "ax.legend()\n",
    "plt.show()"
   ]
  },
  {
   "cell_type": "code",
   "execution_count": 37,
   "id": "wired-circuit",
   "metadata": {},
   "outputs": [
    {
     "data": {
      "text/html": [
       "<div>\n",
       "<style scoped>\n",
       "    .dataframe tbody tr th:only-of-type {\n",
       "        vertical-align: middle;\n",
       "    }\n",
       "\n",
       "    .dataframe tbody tr th {\n",
       "        vertical-align: top;\n",
       "    }\n",
       "\n",
       "    .dataframe thead th {\n",
       "        text-align: right;\n",
       "    }\n",
       "</style>\n",
       "<table border=\"1\" class=\"dataframe\">\n",
       "  <thead>\n",
       "    <tr style=\"text-align: right;\">\n",
       "      <th></th>\n",
       "      <th>Score</th>\n",
       "      <th>TeamName</th>\n",
       "    </tr>\n",
       "  </thead>\n",
       "  <tbody>\n",
       "    <tr>\n",
       "      <th>0</th>\n",
       "      <td>7.536800e-01</td>\n",
       "      <td>1</td>\n",
       "    </tr>\n",
       "    <tr>\n",
       "      <th>1</th>\n",
       "      <td>7.695500e-01</td>\n",
       "      <td>1</td>\n",
       "    </tr>\n",
       "    <tr>\n",
       "      <th>2</th>\n",
       "      <td>7.839900e-01</td>\n",
       "      <td>1</td>\n",
       "    </tr>\n",
       "    <tr>\n",
       "      <th>3</th>\n",
       "      <td>7.921500e-01</td>\n",
       "      <td>1</td>\n",
       "    </tr>\n",
       "    <tr>\n",
       "      <th>4</th>\n",
       "      <td>7.935800e-01</td>\n",
       "      <td>1</td>\n",
       "    </tr>\n",
       "    <tr>\n",
       "      <th>...</th>\n",
       "      <td>...</td>\n",
       "      <td>...</td>\n",
       "    </tr>\n",
       "    <tr>\n",
       "      <th>6624</th>\n",
       "      <td>1.387682e+07</td>\n",
       "      <td>2</td>\n",
       "    </tr>\n",
       "    <tr>\n",
       "      <th>6625</th>\n",
       "      <td>3.708267e+11</td>\n",
       "      <td>1</td>\n",
       "    </tr>\n",
       "    <tr>\n",
       "      <th>6626</th>\n",
       "      <td>4.480669e+11</td>\n",
       "      <td>1</td>\n",
       "    </tr>\n",
       "    <tr>\n",
       "      <th>6627</th>\n",
       "      <td>1.675717e+16</td>\n",
       "      <td>1</td>\n",
       "    </tr>\n",
       "    <tr>\n",
       "      <th>6628</th>\n",
       "      <td>1.494654e+28</td>\n",
       "      <td>1</td>\n",
       "    </tr>\n",
       "  </tbody>\n",
       "</table>\n",
       "<p>6629 rows × 2 columns</p>\n",
       "</div>"
      ],
      "text/plain": [
       "             Score  TeamName\n",
       "0     7.536800e-01         1\n",
       "1     7.695500e-01         1\n",
       "2     7.839900e-01         1\n",
       "3     7.921500e-01         1\n",
       "4     7.935800e-01         1\n",
       "...            ...       ...\n",
       "6624  1.387682e+07         2\n",
       "6625  3.708267e+11         1\n",
       "6626  4.480669e+11         1\n",
       "6627  1.675717e+16         1\n",
       "6628  1.494654e+28         1\n",
       "\n",
       "[6629 rows x 2 columns]"
      ]
     },
     "execution_count": 37,
     "metadata": {},
     "output_type": "execute_result"
    }
   ],
   "source": [
    "score_count = board.groupby(\"Score\").agg({\"TeamName\": \"count\"}).sort_values(by=\"Score\").reset_index()\n",
    "\n",
    "score_count"
   ]
  },
  {
   "cell_type": "code",
   "execution_count": 52,
   "id": "lesser-destination",
   "metadata": {},
   "outputs": [
    {
     "data": {
      "image/png": "[encoded data removed]",
      "text/plain": [
       "<Figure size 1080x288 with 1 Axes>"
      ]
     },
     "metadata": {
      "needs_background": "light"
     },
     "output_type": "display_data"
    }
   ],
   "source": [
    "fig, ax = plt.subplots(1, 1, figsize=(15, 4))\n",
    "\n",
    "score_count_filtered = score_count.query(\"Score <= 1.1 and TeamName > 1\")\n",
    "ax.plot(\n",
    "    score_count_filtered[\"Score\"],\n",
    "    score_count_filtered[\"TeamName\"],\n",
    ")\n",
    "ax.axvline(m, color=\"orange\", linestyle=\"--\", label=\"median\")\n",
    "ax.axvline(1.03278, color=\"green\", linestyle=\"--\", label=\"me\")\n",
    "ax.axvline(0.88263, color=\"purple\", alpha=0.2, linestyle=\"--\", label=\"best linked nb\") # https://www.kaggle.com/ahmedmurad1990/predict-future-sales\n",
    "ax.axvline(0.89668, color=\"pink\", alpha=0.3, linestyle=\"--\", label=\"another public nb\") # https://www.kaggle.com/wangqiyuan/xgb-baseline-advanced-feature-engineering\n",
    "\n",
    "ax.legend()\n",
    "\n",
    "plt.show()"
   ]
  }
 ],
 "metadata": {
  "kernelspec": {
   "display_name": "Python 3",
   "language": "python",
   "name": "python3"
  },
  "language_info": {
   "codemirror_mode": {
    "name": "ipython",
    "version": 3
   },
   "file_extension": ".py",
   "mimetype": "text/x-python",
   "name": "python",
   "nbconvert_exporter": "python",
   "pygments_lexer": "ipython3",
   "version": "3.8.5"
  }
 },
 "nbformat": 4,
 "nbformat_minor": 5
}
